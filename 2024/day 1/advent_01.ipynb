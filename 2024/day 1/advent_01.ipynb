{
 "cells": [
  {
   "cell_type": "code",
   "execution_count": 1,
   "id": "3fa5c6ab",
   "metadata": {},
   "outputs": [],
   "source": [
    "import numpy as np"
   ]
  },
  {
   "cell_type": "markdown",
   "id": "f1d6a320-b157-482b-8583-9c88959c86a0",
   "metadata": {},
   "source": [
    "Part ONE"
   ]
  },
  {
   "cell_type": "code",
   "execution_count": 2,
   "id": "4cb480b5",
   "metadata": {},
   "outputs": [
    {
     "name": "stdout",
     "output_type": "stream",
     "text": [
      "1320851.0\n"
     ]
    }
   ],
   "source": [
    "data = np.genfromtxt(fname='input.txt')\n",
    "col1 = np.sort(data[:,0])\n",
    "col2 = np.sort(data[:,1])\n",
    "suma=0\n",
    "for i in range(0,len(col1)):\n",
    "    suma += abs(col1[i] - col2[i])\n",
    "print(suma)"
   ]
  },
  {
   "cell_type": "markdown",
   "id": "b077b3f8-91b3-4b20-89bb-392096f5a928",
   "metadata": {},
   "source": [
    "Part TWO"
   ]
  },
  {
   "cell_type": "code",
   "execution_count": 3,
   "id": "7a3dc733-0bb9-4913-9e66-f385836767b9",
   "metadata": {},
   "outputs": [
    {
     "name": "stdout",
     "output_type": "stream",
     "text": [
      "26859182.0\n"
     ]
    }
   ],
   "source": [
    "sim_coef = 0\n",
    "for i in range(0,len(col1)):\n",
    "    sim_count = sum(col2 == col1[i])\n",
    "    sim_coef += col1[i] * sim_count\n",
    "print(sim_coef)"
   ]
  },
  {
   "cell_type": "code",
   "execution_count": null,
   "id": "3f28eb6d-903e-4cf4-8d6d-05ef713e8220",
   "metadata": {},
   "outputs": [],
   "source": []
  }
 ],
 "metadata": {
  "kernelspec": {
   "display_name": "Python 3 (ipykernel)",
   "language": "python",
   "name": "python3"
  },
  "language_info": {
   "codemirror_mode": {
    "name": "ipython",
    "version": 3
   },
   "file_extension": ".py",
   "mimetype": "text/x-python",
   "name": "python",
   "nbconvert_exporter": "python",
   "pygments_lexer": "ipython3",
   "version": "3.9.9"
  }
 },
 "nbformat": 4,
 "nbformat_minor": 5
}
