{
 "cells": [
  {
   "cell_type": "code",
   "execution_count": 13,
   "id": "babd2d9f-0246-4ec8-b7ba-bbeddb9c42fe",
   "metadata": {},
   "outputs": [],
   "source": [
    "import numpy as np\n",
    "import re"
   ]
  },
  {
   "cell_type": "code",
   "execution_count": 92,
   "id": "65206a13-3c66-4064-8908-324d08128025",
   "metadata": {},
   "outputs": [],
   "source": [
    "txt = open(\"input.txt\", \"r\").read()\n",
    "output = re.findall(r\"mul\\(\\d*\\,\\d*\\)\", txt)\n"
   ]
  },
  {
   "cell_type": "code",
   "execution_count": 93,
   "id": "048477a8-0dbe-44e0-aee4-185e2959cd9f",
   "metadata": {},
   "outputs": [
    {
     "data": {
      "text/plain": [
       "162813399"
      ]
     },
     "execution_count": 93,
     "metadata": {},
     "output_type": "execute_result"
    }
   ],
   "source": [
    "out_list = []\n",
    "for i in range(0, len(output)):\n",
    "    output_2 = re.findall(r\"(\\d*\\,\\d*)\", output[i])\n",
    "    left_int = int(re.split(r',', output_2[0])[0])\n",
    "    right_int = int(re.split(r',', output_2[0])[1])\n",
    "    out_list.append(left_int*right_int)\n",
    "sum(out_list)"
   ]
  },
  {
   "cell_type": "markdown",
   "id": "16e1e73f-53b3-4a63-af44-6d3b049a7991",
   "metadata": {},
   "source": [
    "### Part TWO"
   ]
  },
  {
   "cell_type": "code",
   "execution_count": 95,
   "id": "4d4af2ca-e71e-4e44-8470-952d7ed87892",
   "metadata": {},
   "outputs": [],
   "source": [
    "output = re.findall(r\"(mul\\(\\d*\\,\\d*\\)|do\\(\\)|don't\\(\\))\", txt)\n"
   ]
  },
  {
   "cell_type": "code",
   "execution_count": 98,
   "id": "e5a6cfca-7295-4013-9b1e-24c5d441b6ee",
   "metadata": {},
   "outputs": [
    {
     "data": {
      "text/plain": [
       "53783319"
      ]
     },
     "execution_count": 98,
     "metadata": {},
     "output_type": "execute_result"
    }
   ],
   "source": [
    "out_list = []\n",
    "bool = True \n",
    "for i in range(0, len(output)):\n",
    "    if output[i]=='do()':\n",
    "        bool = True\n",
    "    elif output[i]=='don\\'t()':\n",
    "        bool = False\n",
    "    if (bool == True) & (output[i]!='do()'):\n",
    "        output_2 = re.findall(r\"(\\d*\\,\\d*)\", output[i])\n",
    "        left_int = int(re.split(r',', output_2[0])[0])\n",
    "        right_int = int(re.split(r',', output_2[0])[1])\n",
    "        out_list.append(left_int*right_int)\n",
    "sum(out_list)"
   ]
  },
  {
   "cell_type": "code",
   "execution_count": null,
   "id": "a554d1ff-c6ac-4cdb-b2cf-3f19214d6516",
   "metadata": {},
   "outputs": [],
   "source": []
  }
 ],
 "metadata": {
  "kernelspec": {
   "display_name": "Python 3 (ipykernel)",
   "language": "python",
   "name": "python3"
  },
  "language_info": {
   "codemirror_mode": {
    "name": "ipython",
    "version": 3
   },
   "file_extension": ".py",
   "mimetype": "text/x-python",
   "name": "python",
   "nbconvert_exporter": "python",
   "pygments_lexer": "ipython3",
   "version": "3.9.18"
  }
 },
 "nbformat": 4,
 "nbformat_minor": 5
}
