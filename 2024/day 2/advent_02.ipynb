{
 "cells": [
  {
   "cell_type": "code",
   "execution_count": 1,
   "id": "b93c759c-6cf9-470b-9476-a8dc845bd984",
   "metadata": {},
   "outputs": [],
   "source": [
    "import numpy as np"
   ]
  },
  {
   "cell_type": "code",
   "execution_count": 2,
   "id": "90b1538b-518b-4cb3-a28a-de24e651421c",
   "metadata": {},
   "outputs": [],
   "source": [
    "with open('input.txt', 'r') as file:\n",
    "    data = []\n",
    "    for line in file:\n",
    "        columns = line.strip().split()\n",
    "        data.append(columns)\n",
    "length = len(data)"
   ]
  },
  {
   "cell_type": "markdown",
   "id": "2d35914f-efa0-4b51-bb4f-29d679477e38",
   "metadata": {},
   "source": [
    "Part ONE"
   ]
  },
  {
   "cell_type": "code",
   "execution_count": 3,
   "id": "8e5b6915-392f-4daa-a246-18b76c4ec5d0",
   "metadata": {},
   "outputs": [
    {
     "data": {
      "text/plain": [
       "585"
      ]
     },
     "execution_count": 3,
     "metadata": {},
     "output_type": "execute_result"
    }
   ],
   "source": [
    "result_list_1 = []\n",
    "safe = True\n",
    "for k in range(0, length):\n",
    "    list_len = len(data[k])\n",
    "    cond_1 = sum([True if abs((int(item1) - int(item2))) <= 3 else False for item1, item2 in zip(data[k][0:list_len-1], data[k][1:list_len])])\n",
    "    cond_2 = sum([True if int(item1) > int(item2) else False for item1, item2 in zip(data[k][0:list_len-1], data[k][1:list_len])])\n",
    "    cond_3 = sum([True if int(item1) < int(item2) else False for item1, item2 in zip(data[k][0:list_len-1], data[k][1:list_len])])\n",
    "    if (cond_2==list_len-1) & (cond_1==list_len-1):\n",
    "        safe = True\n",
    "    elif (cond_3==list_len-1) & (cond_1==list_len-1):\n",
    "        safe = True\n",
    "    else:\n",
    "        safe = False\n",
    "    result_list_1.append(safe)\n",
    "    \n",
    "sum(result_list_1)"
   ]
  },
  {
   "cell_type": "markdown",
   "id": "5bcff579-bee9-405c-87d7-d6cb58426f3d",
   "metadata": {},
   "source": [
    "Part TWO"
   ]
  },
  {
   "cell_type": "code",
   "execution_count": 4,
   "id": "30c3a2f3-0ae5-4fdc-850e-b3fd4026b6de",
   "metadata": {},
   "outputs": [
    {
     "data": {
      "text/plain": [
       "626"
      ]
     },
     "execution_count": 4,
     "metadata": {},
     "output_type": "execute_result"
    }
   ],
   "source": [
    "def conditions(vec_bool):\n",
    "    list_len = len(vec_bool)\n",
    "    cond_1 = [True if (abs((int(item1) - int(item2))) <= 3) & (abs((int(item1) - int(item2))) >= 1) else False for item1, item2 in zip(vec_bool[0:list_len-1], vec_bool[1:list_len])]\n",
    "    cond_2 = [True if int(item1) > int(item2) else False for item1, item2 in zip(vec_bool[0:list_len-1], vec_bool[1:list_len])]\n",
    "    cond_3 = [True if int(item1) < int(item2) else False for item1, item2 in zip(vec_bool[0:list_len-1], vec_bool[1:list_len])]\n",
    "    return cond_1, cond_2, cond_3, list_len\n",
    "\n",
    "def booleans(cond_1, cond_2, cond_3, list_len):\n",
    "    cond_12 = [True if (item1 == True) & (item2 == True) else False for item1, item2 in zip(cond_1, cond_2)]\n",
    "    cond_13 = [True if (item1 == True) & (item3 == True) else False for item1, item3 in zip(cond_1, cond_3)]\n",
    "    return cond_12, cond_13\n",
    "\n",
    "result_list = []\n",
    "\n",
    "for k in range(0, length):\n",
    "    safe = False\n",
    "    cond_1, cond_2, cond_3, list_len = conditions(data[3])\n",
    "    cond_12, cond_13 = booleans(cond_1, cond_2, cond_3, list_len) \n",
    "    for i in range(0,len(data[k])):\n",
    "        vec = data[k][:i] + data[k][(i+1):]\n",
    "        cond_1, cond_2, cond_3, list_len = conditions(vec)\n",
    "        cond_12, cond_13 = booleans(cond_1, cond_2, cond_3, list_len) \n",
    "        if (sum(cond_12) == list_len-1) | (sum(cond_13) == list_len-1):\n",
    "            safe = True\n",
    "            break\n",
    "    result_list.append(safe)\n",
    "sum(result_list)"
   ]
  },
  {
   "cell_type": "code",
   "execution_count": null,
   "id": "90e088cc-95d8-49c7-bae4-0629f0183295",
   "metadata": {},
   "outputs": [],
   "source": []
  }
 ],
 "metadata": {
  "kernelspec": {
   "display_name": "Python 3 (ipykernel)",
   "language": "python",
   "name": "python3"
  },
  "language_info": {
   "codemirror_mode": {
    "name": "ipython",
    "version": 3
   },
   "file_extension": ".py",
   "mimetype": "text/x-python",
   "name": "python",
   "nbconvert_exporter": "python",
   "pygments_lexer": "ipython3",
   "version": "3.9.9"
  }
 },
 "nbformat": 4,
 "nbformat_minor": 5
}
